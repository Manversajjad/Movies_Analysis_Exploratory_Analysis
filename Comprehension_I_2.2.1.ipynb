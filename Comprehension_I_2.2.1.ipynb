{
 "cells": [
  {
   "cell_type": "markdown",
   "metadata": {
    "id": "S35pOoeyYjAn"
   },
   "source": [
    "# Comprehension - I"
   ]
  },
  {
   "cell_type": "markdown",
   "metadata": {
    "id": "KcHmYAdMYo-J"
   },
   "source": [
    "Consider that you are a data analyst for Amazon Prime. The management wants you to analyze the 100 top-rated movies of the past decade using information about the movies, their actors, their genres, and who rated them online.<br><br>\n",
    "\n",
    "Answer these questions:"
   ]
  },
  {
   "cell_type": "markdown",
   "metadata": {
    "id": "_HWmahaIZCOp"
   },
   "source": [
    "## Problem - I\n",
    "Of the three movie genres, consider only the first one as the original genre. Between 2010 and 2016, which were the most common and least common movie genres, respectively?<br><br>\n",
    "\n",
    "a.   Action and mystery<br>\n",
    "b.   Drama and animation<br>\n",
    "c.   Drama and comedy<br>\n",
    "d.   Adventure and biography"
   ]
  },
  {
   "cell_type": "code",
   "execution_count": null,
   "metadata": {
    "id": "yTzdwND8ZBWZ"
   },
   "outputs": [],
   "source": []
  },
  {
   "cell_type": "markdown",
   "metadata": {
    "id": "zafkaMGOZKeY"
   },
   "source": [
    "## Problem - II\n",
    "Of the three movie genres, consider only the first one as the original genre of a movie. Which was the most popular genre in 2013?<br><br>\n",
    "\n",
    "a.   Biography<br>\n",
    "b.   Drama<br>\n",
    "c.   Action<br>\n",
    "d.   Comedy"
   ]
  },
  {
   "cell_type": "code",
   "execution_count": null,
   "metadata": {
    "id": "uDXypyyHZQhp"
   },
   "outputs": [],
   "source": []
  },
  {
   "cell_type": "markdown",
   "metadata": {
    "id": "qZ2-6Qr0ZZx8"
   },
   "source": [
    "## Problem - III\n",
    "You want to see how a movie’s budget impacts the gross earned from sales. What is the relationship between these two factors?<br><br>\n",
    "\n",
    "a.   Gross has a positive correlation with the budget of a movie.<br>\n",
    "b.   Gross has a negative correlation with the budget of a movie.<br>\n",
    "c.   Gross does not depend on the budget of a movie.<br>\n",
    "d.   None of the above."
   ]
  },
  {
   "cell_type": "code",
   "execution_count": null,
   "metadata": {
    "id": "fyGrAD6IZevP"
   },
   "outputs": [],
   "source": []
  },
  {
   "cell_type": "code",
   "execution_count": null,
   "metadata": {
    "id": "ylPxlp11aVdE"
   },
   "outputs": [],
   "source": []
  }
 ],
 "metadata": {
  "colab": {
   "name": "Comprehension - I.ipynb",
   "provenance": []
  },
  "kernelspec": {
   "display_name": "Python 3 (ipykernel)",
   "language": "python",
   "name": "python3"
  },
  "language_info": {
   "codemirror_mode": {
    "name": "ipython",
    "version": 3
   },
   "file_extension": ".py",
   "mimetype": "text/x-python",
   "name": "python",
   "nbconvert_exporter": "python",
   "pygments_lexer": "ipython3",
   "version": "3.9.7"
  }
 },
 "nbformat": 4,
 "nbformat_minor": 1
}
